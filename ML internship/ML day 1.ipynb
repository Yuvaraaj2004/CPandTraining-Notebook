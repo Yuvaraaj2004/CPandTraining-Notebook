{
 "cells": [
  {
   "cell_type": "code",
   "execution_count": 3,
   "id": "71bf567c-9080-450b-aa40-1e11283963d4",
   "metadata": {},
   "outputs": [
    {
     "name": "stdin",
     "output_type": "stream",
     "text": [
      " 1 2\n",
      " 2\n",
      " 3.12\n",
      " hello\n",
      " apple\n",
      " bab\n"
     ]
    },
    {
     "name": "stdout",
     "output_type": "stream",
     "text": [
      "num:2 :<class 'int'>\n",
      "float:3.12 :<class 'float'>\n",
      "xaxis:(1+2j) :<class 'complex'>\n",
      "num:hello :<class 'str'>\n",
      "fruit:['a', 'p', 'p', 'l', 'e'] :<class 'list'>\n",
      "mark:('b', 'a', 'b') :<class 'tuple'>\n"
     ]
    }
   ],
   "source": [
    "xaxis=complex(*map(int,input().split()))\n",
    "a=int(input())\n",
    "b=float(input())\n",
    "num=input()\n",
    "fruit=list(input())\n",
    "mark=tuple(input())\n",
    "\n",
    "def f(a,b):\n",
    "  print(f\"{a}:{b} :{type(b)}\")\n",
    "\n",
    "f('num',a)\n",
    "f('float',b)\n",
    "f('xaxis',xaxis)\n",
    "f('num',num)\n",
    "f('fruit',fruit)\n",
    "f('mark',mark)"
   ]
  },
  {
   "cell_type": "code",
   "execution_count": 4,
   "id": "5841938c-181a-4734-bb7f-e92f418ce53e",
   "metadata": {},
   "outputs": [
    {
     "name": "stdout",
     "output_type": "stream",
     "text": [
      "140708981492152\n",
      "140708981492184\n",
      "140708981492216\n",
      "140708981492248\n",
      "2308026386400\n",
      "2307980995696\n",
      "2308033651776\n"
     ]
    }
   ],
   "source": [
    "for i in [1,2,3,4,'hrl','se',[23,45,6]]:\n",
    "    print(id(i))"
   ]
  },
  {
   "cell_type": "code",
   "execution_count": 5,
   "id": "61225b63-9358-490b-9899-eb9c497581d6",
   "metadata": {},
   "outputs": [
    {
     "name": "stdout",
     "output_type": "stream",
     "text": [
      "set:{1, 2, 3, 4} :<class 'set'>\n",
      "dicttionary:{1: 2, 3: 4, 6: 3} :<class 'dict'>\n"
     ]
    }
   ],
   "source": [
    "s={1,2,3,4,2,3,}\n",
    "d={1:2,3:4,6:3}\n",
    "f('set',s)\n",
    "f('dicttionary',d)"
   ]
  },
  {
   "cell_type": "code",
   "execution_count": null,
   "id": "8b18242d-360b-4547-9c21-89ed943c3aff",
   "metadata": {},
   "outputs": [],
   "source": [
    "a,b=10,20\n",
    "print('And',a&b)\n",
    "print('OR',a|b)\n",
    "print('NOT',a)\n",
    "print('And',a&b)\n",
    "print('And',a&b)\n",
    "print('And',a&b)"
   ]
  },
  {
   "cell_type": "code",
   "execution_count": 6,
   "id": "972300aa-8435-4a33-a1ab-e1c841f074f0",
   "metadata": {},
   "outputs": [],
   "source": [
    "import numpy as np"
   ]
  },
  {
   "cell_type": "code",
   "execution_count": null,
   "id": "b1e96d5e-1c0e-4768-8448-6f1f0a233fde",
   "metadata": {},
   "outputs": [],
   "source": []
  }
 ],
 "metadata": {
  "kernelspec": {
   "display_name": "Python 3 (ipykernel)",
   "language": "python",
   "name": "python3"
  },
  "language_info": {
   "codemirror_mode": {
    "name": "ipython",
    "version": 3
   },
   "file_extension": ".py",
   "mimetype": "text/x-python",
   "name": "python",
   "nbconvert_exporter": "python",
   "pygments_lexer": "ipython3",
   "version": "3.12.0"
  }
 },
 "nbformat": 4,
 "nbformat_minor": 5
}
