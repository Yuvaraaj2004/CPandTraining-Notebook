{
 "cells": [
  {
   "cell_type": "code",
   "execution_count": 1,
   "metadata": {},
   "outputs": [],
   "source": [
    "import pandas as pd\n",
    "from bs4 import BeautifulSoup\n",
    "import requests\n"
   ]
  },
  {
   "cell_type": "code",
   "execution_count": 2,
   "metadata": {},
   "outputs": [],
   "source": [
    "df = pd.read_csv(\n",
    "    \"C:\\\\Users\\\\yuvar\\\\Downloads\\\\IELT-MAANG Mavericks-2025 - Leetcode Contest Report.csv\", header=3)\n",
    "# df.head()\n"
   ]
  },
  {
   "cell_type": "code",
   "execution_count": 3,
   "metadata": {},
   "outputs": [
    {
     "name": "stderr",
     "output_type": "stream",
     "text": [
      "C:\\Users\\yuvar\\AppData\\Local\\Temp\\ipykernel_2640\\2400823038.py:2: SettingWithCopyWarning: \n",
      "A value is trying to be set on a copy of a slice from a DataFrame.\n",
      "Try using .loc[row_indexer,col_indexer] = value instead\n",
      "\n",
      "See the caveats in the documentation: https://pandas.pydata.org/pandas-docs/stable/user_guide/indexing.html#returning-a-view-versus-a-copy\n",
      "  datas['LINKS'] = datas[\"LEETCODE_ID\"].map(\"https://leetcode.com/{}\".format)\n"
     ]
    }
   ],
   "source": [
    "datas = df[[\"ROLL_NO\",\t\"NAME\", \"LEETCODE_ID\"]]\n",
    "datas['LINKS'] = datas[\"LEETCODE_ID\"].map(\"https://leetcode.com/{}\".format)\n",
    "# datas\n"
   ]
  },
  {
   "cell_type": "code",
   "execution_count": 4,
   "metadata": {},
   "outputs": [
    {
     "name": "stdout",
     "output_type": "stream",
     "text": [
      "403 'NoneType' object has no attribute 'text'\n"
     ]
    },
    {
     "ename": "KeyboardInterrupt",
     "evalue": "",
     "output_type": "error",
     "traceback": [
      "\u001b[1;31m---------------------------------------------------------------------------\u001b[0m",
      "\u001b[1;31mAttributeError\u001b[0m                            Traceback (most recent call last)",
      "Cell \u001b[1;32mIn[4], line 22\u001b[0m, in \u001b[0;36mextractRank\u001b[1;34m(URL, f)\u001b[0m\n\u001b[0;32m     19\u001b[0m d \u001b[38;5;241m=\u001b[39m {val: i\u001b[38;5;241m.\u001b[39mtext \u001b[38;5;28;01mfor\u001b[39;00m val, i \u001b[38;5;129;01min\u001b[39;00m \u001b[38;5;28mzip\u001b[39m([\u001b[38;5;124m'\u001b[39m\u001b[38;5;124mEASY\u001b[39m\u001b[38;5;124m'\u001b[39m, \u001b[38;5;124m'\u001b[39m\u001b[38;5;124mMEDIUM\u001b[39m\u001b[38;5;124m'\u001b[39m, \u001b[38;5;124m\"\u001b[39m\u001b[38;5;124mHARD\u001b[39m\u001b[38;5;124m\"\u001b[39m], soup\u001b[38;5;241m.\u001b[39mfindAll(\n\u001b[0;32m     20\u001b[0m     \u001b[38;5;124m'\u001b[39m\u001b[38;5;124mspan\u001b[39m\u001b[38;5;124m'\u001b[39m, class_\u001b[38;5;241m=\u001b[39m\u001b[38;5;124m\"\u001b[39m\u001b[38;5;124mmr-[5px] text-base font-medium leading-[20px] text-label-1 dark:text-dark-label-1\u001b[39m\u001b[38;5;124m\"\u001b[39m))}\n\u001b[0;32m     21\u001b[0m d[\u001b[38;5;124m\"\u001b[39m\u001b[38;5;124mRATING\u001b[39m\u001b[38;5;124m\"\u001b[39m] \u001b[38;5;241m=\u001b[39m \u001b[43msoup\u001b[49m\u001b[38;5;241;43m.\u001b[39;49m\u001b[43mfind\u001b[49m\u001b[43m(\u001b[49m\n\u001b[1;32m---> 22\u001b[0m \u001b[43m    \u001b[49m\u001b[38;5;124;43m'\u001b[39;49m\u001b[38;5;124;43mdiv\u001b[39;49m\u001b[38;5;124;43m'\u001b[39;49m\u001b[43m,\u001b[49m\u001b[43m \u001b[49m\u001b[43mclass_\u001b[49m\u001b[38;5;241;43m=\u001b[39;49m\u001b[38;5;124;43m\"\u001b[39;49m\u001b[38;5;124;43mtext-label-1 dark:text-dark-label-1 flex items-center text-2xl\u001b[39;49m\u001b[38;5;124;43m\"\u001b[39;49m\u001b[43m)\u001b[49m\u001b[38;5;241;43m.\u001b[39;49m\u001b[43mtext\u001b[49m\n\u001b[0;32m     23\u001b[0m d[\u001b[38;5;124m\"\u001b[39m\u001b[38;5;124mATTENDED\u001b[39m\u001b[38;5;124m\"\u001b[39m] \u001b[38;5;241m=\u001b[39m soup\u001b[38;5;241m.\u001b[39mfindAll(\n\u001b[0;32m     24\u001b[0m     \u001b[38;5;124m'\u001b[39m\u001b[38;5;124mdiv\u001b[39m\u001b[38;5;124m'\u001b[39m, class_\u001b[38;5;241m=\u001b[39m\u001b[38;5;124m\"\u001b[39m\u001b[38;5;124mtext-label-1 dark:text-dark-label-1 font-medium leading-[22px]\u001b[39m\u001b[38;5;124m\"\u001b[39m)[\u001b[38;5;241m1\u001b[39m]\u001b[38;5;241m.\u001b[39mtext\n",
      "\u001b[1;31mAttributeError\u001b[0m: 'NoneType' object has no attribute 'text'",
      "\nDuring handling of the above exception, another exception occurred:\n",
      "\u001b[1;31mKeyboardInterrupt\u001b[0m                         Traceback (most recent call last)",
      "Cell \u001b[1;32mIn[4], line 42\u001b[0m\n\u001b[0;32m     40\u001b[0m \u001b[38;5;66;03m# datas[\"CURR_RATING\"] = (datas[\"LINKS\"].map(extractRank))\u001b[39;00m\n\u001b[0;32m     41\u001b[0m dfdic \u001b[38;5;241m=\u001b[39m {}\n\u001b[1;32m---> 42\u001b[0m \u001b[38;5;28;01mfor\u001b[39;00m ind, i \u001b[38;5;129;01min\u001b[39;00m (\u001b[43mdatas\u001b[49m\u001b[43m[\u001b[49m\u001b[38;5;124;43m\"\u001b[39;49m\u001b[38;5;124;43mLINKS\u001b[39;49m\u001b[38;5;124;43m\"\u001b[39;49m\u001b[43m]\u001b[49m\u001b[43m \u001b[49m\u001b[38;5;241;43m.\u001b[39;49m\u001b[43m \u001b[49m\u001b[38;5;28;43mmap\u001b[39;49m\u001b[43m(\u001b[49m\u001b[43mextractRank\u001b[49m\u001b[43m)\u001b[49m)\u001b[38;5;241m.\u001b[39mitems():\n\u001b[0;32m     43\u001b[0m     \u001b[38;5;66;03m# print(i)\u001b[39;00m\n\u001b[0;32m     44\u001b[0m     \u001b[38;5;28;01mfor\u001b[39;00m j \u001b[38;5;129;01min\u001b[39;00m i:\n\u001b[0;32m     45\u001b[0m         \u001b[38;5;28;01mif\u001b[39;00m j \u001b[38;5;129;01mnot\u001b[39;00m \u001b[38;5;129;01min\u001b[39;00m dfdic:\n",
      "File \u001b[1;32m~\\AppData\\Roaming\\Python\\Python312\\site-packages\\pandas\\core\\series.py:4544\u001b[0m, in \u001b[0;36mSeries.map\u001b[1;34m(self, arg, na_action)\u001b[0m\n\u001b[0;32m   4464\u001b[0m \u001b[38;5;28;01mdef\u001b[39;00m \u001b[38;5;21mmap\u001b[39m(\n\u001b[0;32m   4465\u001b[0m     \u001b[38;5;28mself\u001b[39m,\n\u001b[0;32m   4466\u001b[0m     arg: Callable \u001b[38;5;241m|\u001b[39m Mapping \u001b[38;5;241m|\u001b[39m Series,\n\u001b[0;32m   4467\u001b[0m     na_action: Literal[\u001b[38;5;124m\"\u001b[39m\u001b[38;5;124mignore\u001b[39m\u001b[38;5;124m\"\u001b[39m] \u001b[38;5;241m|\u001b[39m \u001b[38;5;28;01mNone\u001b[39;00m \u001b[38;5;241m=\u001b[39m \u001b[38;5;28;01mNone\u001b[39;00m,\n\u001b[0;32m   4468\u001b[0m ) \u001b[38;5;241m-\u001b[39m\u001b[38;5;241m>\u001b[39m Series:\n\u001b[0;32m   4469\u001b[0m \u001b[38;5;250m    \u001b[39m\u001b[38;5;124;03m\"\"\"\u001b[39;00m\n\u001b[0;32m   4470\u001b[0m \u001b[38;5;124;03m    Map values of Series according to an input mapping or function.\u001b[39;00m\n\u001b[0;32m   4471\u001b[0m \n\u001b[1;32m   (...)\u001b[0m\n\u001b[0;32m   4542\u001b[0m \u001b[38;5;124;03m    dtype: object\u001b[39;00m\n\u001b[0;32m   4543\u001b[0m \u001b[38;5;124;03m    \"\"\"\u001b[39;00m\n\u001b[1;32m-> 4544\u001b[0m     new_values \u001b[38;5;241m=\u001b[39m \u001b[38;5;28;43mself\u001b[39;49m\u001b[38;5;241;43m.\u001b[39;49m\u001b[43m_map_values\u001b[49m\u001b[43m(\u001b[49m\u001b[43marg\u001b[49m\u001b[43m,\u001b[49m\u001b[43m \u001b[49m\u001b[43mna_action\u001b[49m\u001b[38;5;241;43m=\u001b[39;49m\u001b[43mna_action\u001b[49m\u001b[43m)\u001b[49m\n\u001b[0;32m   4545\u001b[0m     \u001b[38;5;28;01mreturn\u001b[39;00m \u001b[38;5;28mself\u001b[39m\u001b[38;5;241m.\u001b[39m_constructor(new_values, index\u001b[38;5;241m=\u001b[39m\u001b[38;5;28mself\u001b[39m\u001b[38;5;241m.\u001b[39mindex, copy\u001b[38;5;241m=\u001b[39m\u001b[38;5;28;01mFalse\u001b[39;00m)\u001b[38;5;241m.\u001b[39m__finalize__(\n\u001b[0;32m   4546\u001b[0m         \u001b[38;5;28mself\u001b[39m, method\u001b[38;5;241m=\u001b[39m\u001b[38;5;124m\"\u001b[39m\u001b[38;5;124mmap\u001b[39m\u001b[38;5;124m\"\u001b[39m\n\u001b[0;32m   4547\u001b[0m     )\n",
      "File \u001b[1;32m~\\AppData\\Roaming\\Python\\Python312\\site-packages\\pandas\\core\\base.py:921\u001b[0m, in \u001b[0;36mIndexOpsMixin._map_values\u001b[1;34m(self, mapper, na_action, convert)\u001b[0m\n\u001b[0;32m    918\u001b[0m \u001b[38;5;28;01mif\u001b[39;00m \u001b[38;5;28misinstance\u001b[39m(arr, ExtensionArray):\n\u001b[0;32m    919\u001b[0m     \u001b[38;5;28;01mreturn\u001b[39;00m arr\u001b[38;5;241m.\u001b[39mmap(mapper, na_action\u001b[38;5;241m=\u001b[39mna_action)\n\u001b[1;32m--> 921\u001b[0m \u001b[38;5;28;01mreturn\u001b[39;00m \u001b[43malgorithms\u001b[49m\u001b[38;5;241;43m.\u001b[39;49m\u001b[43mmap_array\u001b[49m\u001b[43m(\u001b[49m\u001b[43marr\u001b[49m\u001b[43m,\u001b[49m\u001b[43m \u001b[49m\u001b[43mmapper\u001b[49m\u001b[43m,\u001b[49m\u001b[43m \u001b[49m\u001b[43mna_action\u001b[49m\u001b[38;5;241;43m=\u001b[39;49m\u001b[43mna_action\u001b[49m\u001b[43m,\u001b[49m\u001b[43m \u001b[49m\u001b[43mconvert\u001b[49m\u001b[38;5;241;43m=\u001b[39;49m\u001b[43mconvert\u001b[49m\u001b[43m)\u001b[49m\n",
      "File \u001b[1;32m~\\AppData\\Roaming\\Python\\Python312\\site-packages\\pandas\\core\\algorithms.py:1814\u001b[0m, in \u001b[0;36mmap_array\u001b[1;34m(arr, mapper, na_action, convert)\u001b[0m\n\u001b[0;32m   1812\u001b[0m values \u001b[38;5;241m=\u001b[39m arr\u001b[38;5;241m.\u001b[39mastype(\u001b[38;5;28mobject\u001b[39m, copy\u001b[38;5;241m=\u001b[39m\u001b[38;5;28;01mFalse\u001b[39;00m)\n\u001b[0;32m   1813\u001b[0m \u001b[38;5;28;01mif\u001b[39;00m na_action \u001b[38;5;129;01mis\u001b[39;00m \u001b[38;5;28;01mNone\u001b[39;00m:\n\u001b[1;32m-> 1814\u001b[0m     \u001b[38;5;28;01mreturn\u001b[39;00m \u001b[43mlib\u001b[49m\u001b[38;5;241;43m.\u001b[39;49m\u001b[43mmap_infer\u001b[49m\u001b[43m(\u001b[49m\u001b[43mvalues\u001b[49m\u001b[43m,\u001b[49m\u001b[43m \u001b[49m\u001b[43mmapper\u001b[49m\u001b[43m,\u001b[49m\u001b[43m \u001b[49m\u001b[43mconvert\u001b[49m\u001b[38;5;241;43m=\u001b[39;49m\u001b[43mconvert\u001b[49m\u001b[43m)\u001b[49m\n\u001b[0;32m   1815\u001b[0m \u001b[38;5;28;01melse\u001b[39;00m:\n\u001b[0;32m   1816\u001b[0m     \u001b[38;5;28;01mreturn\u001b[39;00m lib\u001b[38;5;241m.\u001b[39mmap_infer_mask(\n\u001b[0;32m   1817\u001b[0m         values, mapper, mask\u001b[38;5;241m=\u001b[39misna(values)\u001b[38;5;241m.\u001b[39mview(np\u001b[38;5;241m.\u001b[39muint8), convert\u001b[38;5;241m=\u001b[39mconvert\n\u001b[0;32m   1818\u001b[0m     )\n",
      "File \u001b[1;32mlib.pyx:2926\u001b[0m, in \u001b[0;36mpandas._libs.lib.map_infer\u001b[1;34m()\u001b[0m\n",
      "Cell \u001b[1;32mIn[4], line 37\u001b[0m, in \u001b[0;36mextractRank\u001b[1;34m(URL, f)\u001b[0m\n\u001b[0;32m     35\u001b[0m \u001b[38;5;28;01mif\u001b[39;00m f:\n\u001b[0;32m     36\u001b[0m     \u001b[38;5;28;01mreturn\u001b[39;00m {i: \u001b[38;5;28;01mNone\u001b[39;00m \u001b[38;5;28;01mfor\u001b[39;00m i \u001b[38;5;129;01min\u001b[39;00m [\u001b[38;5;124m'\u001b[39m\u001b[38;5;124mEASY\u001b[39m\u001b[38;5;124m'\u001b[39m, \u001b[38;5;124m'\u001b[39m\u001b[38;5;124mMEDIUM\u001b[39m\u001b[38;5;124m'\u001b[39m, \u001b[38;5;124m\"\u001b[39m\u001b[38;5;124mHARD\u001b[39m\u001b[38;5;124m\"\u001b[39m, \u001b[38;5;124m\"\u001b[39m\u001b[38;5;124mRATING\u001b[39m\u001b[38;5;124m\"\u001b[39m, \u001b[38;5;124m\"\u001b[39m\u001b[38;5;124mATTENDED\u001b[39m\u001b[38;5;124m\"\u001b[39m, \u001b[38;5;124m\"\u001b[39m\u001b[38;5;124mTOTAL\u001b[39m\u001b[38;5;124m\"\u001b[39m]}\n\u001b[1;32m---> 37\u001b[0m \u001b[38;5;28;01mreturn\u001b[39;00m \u001b[43mextractRank\u001b[49m\u001b[43m(\u001b[49m\u001b[43mURL\u001b[49m\u001b[43m,\u001b[49m\u001b[43m \u001b[49m\u001b[38;5;129;43;01mnot\u001b[39;49;00m\u001b[43m \u001b[49m\u001b[43mf\u001b[49m\u001b[43m)\u001b[49m\n",
      "Cell \u001b[1;32mIn[4], line 16\u001b[0m, in \u001b[0;36mextractRank\u001b[1;34m(URL, f)\u001b[0m\n\u001b[0;32m     13\u001b[0m \u001b[38;5;28;01mdef\u001b[39;00m \u001b[38;5;21mextractRank\u001b[39m(URL, f\u001b[38;5;241m=\u001b[39m\u001b[38;5;28;01mFalse\u001b[39;00m):\n\u001b[0;32m     14\u001b[0m     \u001b[38;5;28;01mtry\u001b[39;00m:\n\u001b[0;32m     15\u001b[0m         soup \u001b[38;5;241m=\u001b[39m BeautifulSoup(\n\u001b[1;32m---> 16\u001b[0m             \u001b[43mget_page\u001b[49m\u001b[43m(\u001b[49m\u001b[43mURL\u001b[49m\u001b[43m)\u001b[49m\u001b[38;5;241m.\u001b[39mcontent, \u001b[38;5;124m\"\u001b[39m\u001b[38;5;124mhtml.parser\u001b[39m\u001b[38;5;124m\"\u001b[39m)\n\u001b[0;32m     17\u001b[0m         \u001b[38;5;66;03m# print(soup.prettify())\u001b[39;00m\n\u001b[0;32m     18\u001b[0m         \u001b[38;5;66;03m# print(soup.find_all(class_=\"highcharts-series\"))\u001b[39;00m\n\u001b[0;32m     19\u001b[0m         d \u001b[38;5;241m=\u001b[39m {val: i\u001b[38;5;241m.\u001b[39mtext \u001b[38;5;28;01mfor\u001b[39;00m val, i \u001b[38;5;129;01min\u001b[39;00m \u001b[38;5;28mzip\u001b[39m([\u001b[38;5;124m'\u001b[39m\u001b[38;5;124mEASY\u001b[39m\u001b[38;5;124m'\u001b[39m, \u001b[38;5;124m'\u001b[39m\u001b[38;5;124mMEDIUM\u001b[39m\u001b[38;5;124m'\u001b[39m, \u001b[38;5;124m\"\u001b[39m\u001b[38;5;124mHARD\u001b[39m\u001b[38;5;124m\"\u001b[39m], soup\u001b[38;5;241m.\u001b[39mfindAll(\n\u001b[0;32m     20\u001b[0m             \u001b[38;5;124m'\u001b[39m\u001b[38;5;124mspan\u001b[39m\u001b[38;5;124m'\u001b[39m, class_\u001b[38;5;241m=\u001b[39m\u001b[38;5;124m\"\u001b[39m\u001b[38;5;124mmr-[5px] text-base font-medium leading-[20px] text-label-1 dark:text-dark-label-1\u001b[39m\u001b[38;5;124m\"\u001b[39m))}\n",
      "Cell \u001b[1;32mIn[4], line 7\u001b[0m, in \u001b[0;36mget_page\u001b[1;34m(URL)\u001b[0m\n\u001b[0;32m      5\u001b[0m c \u001b[38;5;241m=\u001b[39m \u001b[38;5;241m0\u001b[39m\n\u001b[0;32m      6\u001b[0m \u001b[38;5;28;01mwhile\u001b[39;00m c \u001b[38;5;241m<\u001b[39m \u001b[38;5;241m3\u001b[39m \u001b[38;5;129;01mand\u001b[39;00m (v \u001b[38;5;241m:=\u001b[39m requests\u001b[38;5;241m.\u001b[39mget(URL))\u001b[38;5;241m.\u001b[39mstatus_code \u001b[38;5;241m!=\u001b[39m \u001b[38;5;241m200\u001b[39m:\n\u001b[1;32m----> 7\u001b[0m     \u001b[43mtime\u001b[49m\u001b[38;5;241;43m.\u001b[39;49m\u001b[43msleep\u001b[49m\u001b[43m(\u001b[49m\u001b[38;5;241;43m1\u001b[39;49m\u001b[43m)\u001b[49m\n\u001b[0;32m      8\u001b[0m     c \u001b[38;5;241m+\u001b[39m\u001b[38;5;241m=\u001b[39m \u001b[38;5;241m1\u001b[39m\n\u001b[0;32m      9\u001b[0m \u001b[38;5;28mprint\u001b[39m(v\u001b[38;5;241m.\u001b[39mstatus_code, end\u001b[38;5;241m=\u001b[39m\u001b[38;5;124m'\u001b[39m\u001b[38;5;124m \u001b[39m\u001b[38;5;124m'\u001b[39m)\n",
      "\u001b[1;31mKeyboardInterrupt\u001b[0m: "
     ]
    }
   ],
   "source": [
    "\n",
    "import time\n",
    "\n",
    "\n",
    "def get_page(URL):\n",
    "    c = 0\n",
    "    while c < 3 and (v := requests.get(URL)).status_code != 200:\n",
    "        time.sleep(1)\n",
    "        c += 1\n",
    "    print(v.status_code, end=' ')\n",
    "    return v\n",
    "\n",
    "\n",
    "def extractRank(URL, f=False):\n",
    "    try:\n",
    "        soup = BeautifulSoup(\n",
    "            get_page(URL).content, \"html.parser\")\n",
    "        # print(soup.prettify())\n",
    "        # print(soup.find_all(class_=\"highcharts-series\"))\n",
    "        d = {val: i.text for val, i in zip(['EASY', 'MEDIUM', \"HARD\"], soup.findAll(\n",
    "            'span', class_=\"mr-[5px] text-base font-medium leading-[20px] text-label-1 dark:text-dark-label-1\"))}\n",
    "        d[\"RATING\"] = soup.find(\n",
    "            'div', class_=\"text-label-1 dark:text-dark-label-1 flex items-center text-2xl\").text\n",
    "        d[\"ATTENDED\"] = soup.findAll(\n",
    "            'div', class_=\"text-label-1 dark:text-dark-label-1 font-medium leading-[22px]\")[1].text\n",
    "\n",
    "        d[\"TOTAL\"] = soup.find(\n",
    "            'div', class_='text-[24px] font-medium text-label-1 dark:text-dark-label-1').text\n",
    "\n",
    "        print(d)\n",
    "        time.sleep(3)\n",
    "        return (d)\n",
    "\n",
    "    except Exception as e:\n",
    "        print(e)\n",
    "        if f:\n",
    "            return {i: None for i in ['EASY', 'MEDIUM', \"HARD\", \"RATING\", \"ATTENDED\", \"TOTAL\"]}\n",
    "        return extractRank(URL, not f)\n",
    "\n",
    "\n",
    "# datas[\"CURR_RATING\"] = (datas[\"LINKS\"].map(extractRank))\n",
    "dfdic = {}\n",
    "for ind, i in (datas[\"LINKS\"] . map(extractRank)).items():\n",
    "    # print(i)\n",
    "    for j in i:\n",
    "        if j not in dfdic:\n",
    "            dfdic[j] = []\n",
    "        dfdic[j].append(i[j])\n",
    "# drating\n",
    "mdf = pd.concat([datas, pd.DataFrame.from_dict(dfdic)], axis=1)\n",
    "mdf\n",
    "# extractRank(\"https://leetcode.com/_Cypher_0101/\")\n"
   ]
  },
  {
   "cell_type": "code",
   "execution_count": null,
   "metadata": {},
   "outputs": [
    {
     "ename": "SyntaxError",
     "evalue": "invalid syntax (222162490.py, line 4)",
     "output_type": "error",
     "traceback": [
      "\u001b[1;36m  Cell \u001b[1;32mIn[6], line 4\u001b[1;36m\u001b[0m\n\u001b[1;33m    mdf.iloc[nan_rows]=\u001b[0m\n\u001b[1;37m                       ^\u001b[0m\n\u001b[1;31mSyntaxError\u001b[0m\u001b[1;31m:\u001b[0m invalid syntax\n"
     ]
    }
   ],
   "source": [
    "import numpy as np\n",
    "for i in range(5):\n",
    "    nan_rows = mdf[pd.isna(mdf).any(axis=1)]\n",
    "    mdf.iloc[nan_rows]=\n"
   ]
  },
  {
   "cell_type": "code",
   "execution_count": 16,
   "metadata": {},
   "outputs": [
    {
     "name": "stdout",
     "output_type": "stream",
     "text": [
      "HTTP Error 403: Forbidden None\n",
      "HTTP Error 403: Forbidden None\n",
      "HTTP Error 403: Forbidden None\n",
      "'NoneType' object has no attribute 'status_code'\n",
      "HTTP Error 403: Forbidden None\n",
      "HTTP Error 403: Forbidden None\n",
      "HTTP Error 403: Forbidden None\n",
      "'NoneType' object has no attribute 'status_code'\n"
     ]
    },
    {
     "data": {
      "text/plain": [
       "{'EASY': None,\n",
       " 'MEDIUM': None,\n",
       " 'HARD': None,\n",
       " 'RATING': None,\n",
       " 'ATTENDED': None,\n",
       " 'TOTAL': None}"
      ]
     },
     "execution_count": 16,
     "metadata": {},
     "output_type": "execute_result"
    }
   ],
   "source": [
    "\n",
    "import time\n",
    "from urllib.request import urlopen\n",
    "from icecream import ic\n",
    "\n",
    "extract = {\n",
    "    'Problems': {('EASY', 'MEDIUM', \"HARD\"): {\"name\": 'span', \"class_\": \"mr-[5px] text-base font-medium leading-[20px] text-label-1 dark:text-dark-label-1\"}},\n",
    "    'Rating': {('RATING',): {\"name\": 'div', \"class_\": \"text-label-1 dark:text-dark-label-1 flex items-center text-2xl\"}},\n",
    "    'Attended': {('Attended',): {\"name\": 'div', \"class_\": \"text-label-1 dark:text-dark-label-1 font-medium leading-[22px]\"}},\n",
    "    'Total': {('Total',): {\"name\": 'div', \"class_\": 'text-[24px] font-medium text-label-1 dark:text-dark-label-1'}}\n",
    "}\n",
    "\n",
    "\n",
    "def get_page(URL):\n",
    "    c = 0\n",
    "    v = None\n",
    "    while c < 3:\n",
    "        try:\n",
    "            v = urlopen(URL)\n",
    "            print(v)\n",
    "            if v.status_code == 200:\n",
    "                return v\n",
    "        except Exception as e:\n",
    "            print(e, v)\n",
    "        time.sleep(1)\n",
    "        c += 1\n",
    "    print(v.status_code, end=' ')\n",
    "    return v\n",
    "\n",
    "\n",
    "def extractRank(URL, f=False):\n",
    "    try:\n",
    "        soup = BeautifulSoup(get_page(URL).read(), \"html.parser\")\n",
    "        for k, v in extract.items():\n",
    "            for key, value in v.items():\n",
    "\n",
    "                print(key, [i.text for i in soup.findALL(**value)], value)\n",
    "        time.sleep(3)\n",
    "    except Exception as e:\n",
    "        print(e)\n",
    "        if f:\n",
    "            return {i: None for i in ['EASY', 'MEDIUM', \"HARD\", \"RATING\", \"ATTENDED\", \"TOTAL\"]}\n",
    "        return extractRank(URL, not f)\n",
    "\n",
    "\n",
    "# print(get_page(\"https://leetcode.com/_Cypher_0101/\"))\n",
    "\n",
    "(extractRank(\"https://leetcode.com/_Cypher_0101/\"))\n"
   ]
  },
  {
   "cell_type": "code",
   "execution_count": null,
   "metadata": {},
   "outputs": [],
   "source": []
  },
  {
   "cell_type": "code",
   "execution_count": null,
   "metadata": {},
   "outputs": [],
   "source": []
  }
 ],
 "metadata": {
  "kernelspec": {
   "display_name": "Python 3",
   "language": "python",
   "name": "python3"
  },
  "language_info": {
   "codemirror_mode": {
    "name": "ipython",
    "version": 3
   },
   "file_extension": ".py",
   "mimetype": "text/x-python",
   "name": "python",
   "nbconvert_exporter": "python",
   "pygments_lexer": "ipython3",
   "version": "3.12.0"
  }
 },
 "nbformat": 4,
 "nbformat_minor": 2
}
