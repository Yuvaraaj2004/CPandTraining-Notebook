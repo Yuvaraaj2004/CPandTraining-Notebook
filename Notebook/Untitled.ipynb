{
 "cells": [
  {
   "cell_type": "code",
   "execution_count": 2,
   "id": "0234e0fb-cfa3-458d-a6d9-e277036523d4",
   "metadata": {},
   "outputs": [],
   "source": [
    "import re"
   ]
  },
  {
   "cell_type": "code",
   "execution_count": 5,
   "id": "e87caf7f-d512-47b1-9e5a-2454eba88de8",
   "metadata": {},
   "outputs": [
    {
     "data": {
      "text/plain": [
       "['low energy',\n",
       " 'trouble sleeping',\n",
       " 'indigestion',\n",
       " 'back pain',\n",
       " 'abdominal pain',\n",
       " 'severe',\n",
       " 'light headache']"
      ]
     },
     "execution_count": 5,
     "metadata": {},
     "output_type": "execute_result"
    }
   ],
   "source": [
    "pattern=\"low energy|Trouble sleeping|breathing Problem|Indigestion|Anxiety|Back pain|abdominal pain|severe|light headache\"\n",
    "text=\"Over the past few weeks, I’ve been feeling a persistent sense of low energy. I’ve been having trouble sleeping, and I often find myself short of breath. I’ve also been experiencing indigestion, which is unusual for me. On top of that, I’ve been feeling anxious more often than not. Additionally, I’ve been dealing with recurring back pain and abdominal pain. These symptoms have been affecting my daily life and causing me discomfort.severe headache o fds light headache\"\n",
    "re.findall(pattern,text,flags=re.IGNORECASE)"
   ]
  },
  {
   "cell_type": "code",
   "execution_count": null,
   "id": "bc4301b6-f85a-403d-81fc-cafcb31ed8c4",
   "metadata": {},
   "outputs": [],
   "source": []
  }
 ],
 "metadata": {
  "kernelspec": {
   "display_name": "Python 3 (ipykernel)",
   "language": "python",
   "name": "python3"
  },
  "language_info": {
   "codemirror_mode": {
    "name": "ipython",
    "version": 3
   },
   "file_extension": ".py",
   "mimetype": "text/x-python",
   "name": "python",
   "nbconvert_exporter": "python",
   "pygments_lexer": "ipython3",
   "version": "3.11.4"
  }
 },
 "nbformat": 4,
 "nbformat_minor": 5
}
