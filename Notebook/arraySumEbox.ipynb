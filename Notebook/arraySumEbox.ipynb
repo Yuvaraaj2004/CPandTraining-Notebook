{
 "cells": [
  {
   "cell_type": "code",
   "execution_count": 1,
   "metadata": {},
   "outputs": [
    {
     "data": {
      "text/plain": [
       "array([[ 1,  0],\n",
       "       [ 6,  7],\n",
       "       [ 7, -8],\n",
       "       [ 2,  1]])"
      ]
     },
     "execution_count": 1,
     "metadata": {},
     "output_type": "execute_result"
    }
   ],
   "source": [
    "from numpy import array, roots\n",
    "import numpy as np\n",
    "a = [[1, 0], [6, 7], [7, -8], [2, 1]]\n",
    "v = array(a)\n",
    "v\n"
   ]
  },
  {
   "cell_type": "code",
   "execution_count": 6,
   "metadata": {},
   "outputs": [],
   "source": [
    "def compute(v, x):\n",
    "    return array([(v[:, i]-x[i])**2 for i in range(v.shape[1])])\n",
    "\n",
    "\n",
    "def Dist(v, x):\n",
    "    return compute(v, x).sum(axis=0)**0.5\n",
    "\n",
    "\n",
    "def Findmin(distance):\n",
    "    mn = [0, 1]\n",
    "    for i in range(len(distance)):\n",
    "        for j in range(i+1, len(distance)):\n",
    "            if distance[mn[0]][mn[1]] > distance[i][j]:\n",
    "                mn = [i, j]\n",
    "    return mn\n",
    "\n",
    "\n",
    "def DoComp(v, distance):\n",
    "    c = Findmin(distance)\n",
    "    v[c[0]] = (v[c[0]]+v[c[1]])/2\n",
    "    v = np.delete(v, c[1], axis=0)\n",
    "# print((compute((1, 2)).sum(axis=0))**0.5)\n"
   ]
  },
  {
   "cell_type": "code",
   "execution_count": 3,
   "metadata": {},
   "outputs": [
    {
     "data": {
      "text/plain": [
       "array([[0.        , 5.        , 8.48528137, 3.60555128, 7.07106781],\n",
       "       [5.        , 0.        , 6.08276253, 4.24264069, 5.        ],\n",
       "       [8.48528137, 6.08276253, 0.        , 5.        , 1.41421356],\n",
       "       [3.60555128, 4.24264069, 5.        , 0.        , 3.60555128],\n",
       "       [7.07106781, 5.        , 1.41421356, 3.60555128, 0.        ]])"
      ]
     },
     "execution_count": 3,
     "metadata": {},
     "output_type": "execute_result"
    }
   ],
   "source": [
    "v = np.array([[2, 10], [2, 5], [8, 4], [5, 8], [7, 5]], dtype=float)\n",
    "distance = array([Dist(v,v[i]) for i in range(len(v))])\n",
    "distance\n"
   ]
  },
  {
   "cell_type": "code",
   "execution_count": null,
   "metadata": {},
   "outputs": [],
   "source": [
    "\n"
   ]
  },
  {
   "cell_type": "code",
   "execution_count": 7,
   "metadata": {},
   "outputs": [
    {
     "data": {
      "text/plain": [
       "array([2.82842712, 2.82842712, 2.82842712, 2.82842712, 1.41421356,\n",
       "       1.41421356, 1.41421356, 1.41421356])"
      ]
     },
     "execution_count": 7,
     "metadata": {},
     "output_type": "execute_result"
    }
   ],
   "source": [
    "v = array([[2, 2], [2, -2], [-2, 2], [-2, -2],\n",
    "          [-1, 1], [1, -1], [-1, -1], [1, 1]])\n",
    "Dist(v, (0, 0))\n"
   ]
  },
  {
   "cell_type": "code",
   "execution_count": null,
   "metadata": {},
   "outputs": [],
   "source": []
  }
 ],
 "metadata": {
  "kernelspec": {
   "display_name": "Python 3",
   "language": "python",
   "name": "python3"
  },
  "language_info": {
   "codemirror_mode": {
    "name": "ipython",
    "version": 3
   },
   "file_extension": ".py",
   "mimetype": "text/x-python",
   "name": "python",
   "nbconvert_exporter": "python",
   "pygments_lexer": "ipython3",
   "version": "3.12.0"
  }
 },
 "nbformat": 4,
 "nbformat_minor": 2
}
