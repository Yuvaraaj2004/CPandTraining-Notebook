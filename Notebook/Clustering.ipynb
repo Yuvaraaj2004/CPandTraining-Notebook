{
 "cells": [
  {
   "cell_type": "code",
   "execution_count": null,
   "metadata": {},
   "outputs": [],
   "source": []
  },
  {
   "cell_type": "markdown",
   "metadata": {},
   "source": [
    "- Input k [no of Clusters]\n",
    "- K [choose random centroids] if k=2 choose 2 random smaple points\n",
    "- Distance b/w all sample points & choosen centroids\n",
    "- Find min amoung the distance and Group it with the centroids\n",
    "- Form new centroid points based on means/Avg\n",
    "- continue iteratioon until the belongs to not changes\n"
   ]
  },
  {
   "cell_type": "code",
   "execution_count": 3,
   "metadata": {},
   "outputs": [],
   "source": [
    "from numpy import array\n",
    "\n",
    "\n",
    "def find(x, y, xc, yc):\n",
    "\n",
    "    return ((x-xc)**2 + (y-yc)**2)**0.5\n",
    "\n",
    "\n",
    "def avg(x, y):\n",
    "\n",
    "    return x.mean(), y.mean()\n",
    "\n",
    "\n",
    "def group(x, y):\n",
    "    return [0 if i < j else 1 for i, j in zip(x, y)]\n"
   ]
  },
  {
   "cell_type": "code",
   "execution_count": 4,
   "metadata": {},
   "outputs": [
    {
     "name": "stdout",
     "output_type": "stream",
     "text": [
      "(2, 10) (8, 4)\n",
      "[0.         5.         8.48528137 3.60555128 7.07106781] [8.48528137 6.08276253 0.         5.         1.41421356] [0, 0, 1, 0, 1]\n",
      "(2, 10) (8, 4)\n",
      "[0.         5.         8.48528137 3.60555128 7.07106781] [8.48528137 6.08276253 0.         5.         1.41421356] [0, 0, 1, 0, 1]\n"
     ]
    },
    {
     "ename": "TypeError",
     "evalue": "unsupported operand type(s) for -: 'list' and 'list'",
     "output_type": "error",
     "traceback": [
      "\u001b[1;31m---------------------------------------------------------------------------\u001b[0m",
      "\u001b[1;31mTypeError\u001b[0m                                 Traceback (most recent call last)",
      "Cell \u001b[1;32mIn[4], line 11\u001b[0m\n\u001b[0;32m      9\u001b[0m nbelong \u001b[38;5;241m=\u001b[39m group(xc, yc)\n\u001b[0;32m     10\u001b[0m \u001b[38;5;28mprint\u001b[39m(xc, yc, nbelong)\n\u001b[1;32m---> 11\u001b[0m \u001b[38;5;28;01mif\u001b[39;00m (\u001b[43mbelongs\u001b[49m\u001b[38;5;241;43m-\u001b[39;49m\u001b[43mnbelong\u001b[49m)\u001b[38;5;241m.\u001b[39msum() \u001b[38;5;241m==\u001b[39m \u001b[38;5;241m0\u001b[39m:\n\u001b[0;32m     12\u001b[0m     \u001b[38;5;28mprint\u001b[39m(nbelong)\n\u001b[0;32m     13\u001b[0m     \u001b[38;5;28;01mbreak\u001b[39;00m\n",
      "\u001b[1;31mTypeError\u001b[0m: unsupported operand type(s) for -: 'list' and 'list'"
     ]
    }
   ],
   "source": [
    "from numpy import array\n",
    "\n",
    "x, y = array([2, 2, 8, 5, 7]), array([10, 5, 4, 8, 5])\n",
    "xm, ym = (2, 10), (8, 4)\n",
    "belongs = array([-1]*len(x))\n",
    "while True:\n",
    "    print(xm, ym)\n",
    "    xc, yc = find(x, y, *xm), find(x, y, *ym)\n",
    "    nbelong = group(xc, yc)\n",
    "    print(xc, yc, nbelong)\n",
    "    if (belongs-nbelong).sum() == 0:\n",
    "        print(nbelong)\n",
    "        break\n",
    "    belongs = nbelong\n",
    "    # xm = avg(get())..\n"
   ]
  },
  {
   "cell_type": "code",
   "execution_count": null,
   "metadata": {},
   "outputs": [],
   "source": [
    "group(x, y)\n"
   ]
  },
  {
   "cell_type": "code",
   "execution_count": null,
   "metadata": {},
   "outputs": [],
   "source": [
    "import matplotlib.pyplot as plt\n",
    "import pandas\n",
    "from sklearn.cluster import KMeans\n",
    "import seaborn as sns\n",
    "\n",
    "df = pandas.DataFrame([x, y]\n",
    "                      for x, y in zip([2, 2, 8, 5, 7], [10, 5, 4, 8, 5]))\n",
    "df\n"
   ]
  },
  {
   "cell_type": "code",
   "execution_count": null,
   "metadata": {},
   "outputs": [],
   "source": [
    "model = KMeans(n_clusters=2).fit(df)\n"
   ]
  },
  {
   "cell_type": "code",
   "execution_count": null,
   "metadata": {},
   "outputs": [],
   "source": [
    "model.cluster_centers_\n"
   ]
  },
  {
   "cell_type": "code",
   "execution_count": null,
   "metadata": {},
   "outputs": [],
   "source": [
    "sns.regplot(df, x=df[0], y=df[1])\n",
    "plt.scatter(model.cluster_centers_.T[0], model.cluster_centers_.T[1])\n"
   ]
  },
  {
   "cell_type": "code",
   "execution_count": null,
   "metadata": {},
   "outputs": [],
   "source": [
    "print(sum(array([1, 2])-array([3, 4])))\n"
   ]
  },
  {
   "cell_type": "code",
   "execution_count": null,
   "metadata": {},
   "outputs": [],
   "source": [
    "from sklearn.metrics import accuracy_score\n",
    "form\n",
    "\n",
    "accuracy_score()\n"
   ]
  },
  {
   "cell_type": "code",
   "execution_count": null,
   "metadata": {},
   "outputs": [],
   "source": []
  },
  {
   "cell_type": "code",
   "execution_count": null,
   "metadata": {},
   "outputs": [],
   "source": [
    "import numpy as np\n",
    "\n",
    "\n",
    "def ecd(l, x):\n",
    "    return [l[i]-x[i] for i in range(np.shape[2])]\n"
   ]
  }
 ],
 "metadata": {
  "kernelspec": {
   "display_name": "Python 3",
   "language": "python",
   "name": "python3"
  },
  "language_info": {
   "codemirror_mode": {
    "name": "ipython",
    "version": 3
   },
   "file_extension": ".py",
   "mimetype": "text/x-python",
   "name": "python",
   "nbconvert_exporter": "python",
   "pygments_lexer": "ipython3",
   "version": "3.12.0"
  }
 },
 "nbformat": 4,
 "nbformat_minor": 2
}
