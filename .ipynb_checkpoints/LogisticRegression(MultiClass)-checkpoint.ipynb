{
 "cells": [
  {
   "cell_type": "code",
   "execution_count": null,
   "id": "24959441-f60c-459d-ae92-766854f9201e",
   "metadata": {},
   "outputs": [],
   "source": [
    "import pandas as pd , matplotlib.pyplot as plt"
   ]
  },
  {
   "cell_type": "code",
   "execution_count": null,
   "id": "ec27f6ba-0421-4adc-95b5-4279accb8715",
   "metadata": {},
   "outputs": [],
   "source": [
    "from sklearn.datasets import load_digits\n",
    "digit=load_digits()\n",
    "dir(digit)"
   ]
  },
  {
   "cell_type": "code",
   "execution_count": null,
   "id": "3afada51-c134-4ebc-bc3d-31b423d7f655",
   "metadata": {},
   "outputs": [],
   "source": [
    "digit.data[0]"
   ]
  },
  {
   "cell_type": "code",
   "execution_count": null,
   "id": "6427a82b-68a0-431d-ae2c-a6ebf71e6f6a",
   "metadata": {},
   "outputs": [],
   "source": [
    "plt.gray()\n",
    "for i in range(10):plt.matshow(digit.images[i])"
   ]
  },
  {
   "cell_type": "code",
   "execution_count": null,
   "id": "3c88f93c-b63e-44c4-b27e-bfcb335a4310",
   "metadata": {},
   "outputs": [],
   "source": [
    "from sklearn.model_selection import train_test_split\n",
    "x,y=digit[['data']],digit[['target']]\n",
    "xt,xT,yt,yT=train_test_split(x,y,test_size=0.2)"
   ]
  }
 ],
 "metadata": {
  "kernelspec": {
   "display_name": "Python 3 (ipykernel)",
   "language": "python",
   "name": "python3"
  },
  "language_info": {
   "codemirror_mode": {
    "name": "ipython",
    "version": 3
   },
   "file_extension": ".py",
   "mimetype": "text/x-python",
   "name": "python",
   "nbconvert_exporter": "python",
   "pygments_lexer": "ipython3",
   "version": "3.11.4"
  }
 },
 "nbformat": 4,
 "nbformat_minor": 5
}
