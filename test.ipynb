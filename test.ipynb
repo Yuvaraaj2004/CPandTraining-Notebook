{
 "cells": [
  {
   "cell_type": "code",
   "execution_count": 225,
   "metadata": {},
   "outputs": [],
   "source": [
    "import random\n",
    "l = [(random.randint(0, 100), random.randint(0, 100))\n",
    "     for i in range(100)]\n"
   ]
  },
  {
   "cell_type": "code",
   "execution_count": 226,
   "metadata": {},
   "outputs": [],
   "source": [
    "l.sort(key=lambda x: (x[0]+x[1], x))\n",
    "a = sorted(l[::], key=lambda x: (-x[0]+x[1],))\n"
   ]
  },
  {
   "cell_type": "code",
   "execution_count": 227,
   "metadata": {},
   "outputs": [
    {
     "data": {
      "text/plain": [
       "[(6, 8),\n",
       " (8, 14),\n",
       " (24, 6),\n",
       " (13, 19),\n",
       " (5, 35),\n",
       " (16, 24),\n",
       " (23, 17),\n",
       " (17, 25),\n",
       " (30, 16),\n",
       " (4, 43),\n",
       " (47, 1),\n",
       " (40, 9),\n",
       " (32, 18),\n",
       " (23, 28),\n",
       " (31, 21),\n",
       " (20, 34),\n",
       " (39, 15),\n",
       " (2, 54),\n",
       " (42, 16),\n",
       " (17, 45),\n",
       " (58, 7),\n",
       " (27, 39),\n",
       " (56, 12),\n",
       " (20, 49),\n",
       " (33, 37),\n",
       " (57, 14),\n",
       " (64, 8),\n",
       " (38, 35),\n",
       " (74, 2),\n",
       " (39, 38),\n",
       " (13, 66),\n",
       " (29, 52),\n",
       " (34, 47),\n",
       " (50, 32),\n",
       " (28, 56),\n",
       " (48, 36),\n",
       " (7, 78),\n",
       " (14, 72),\n",
       " (39, 47),\n",
       " (24, 63),\n",
       " (37, 50),\n",
       " (4, 84),\n",
       " (35, 53),\n",
       " (40, 48),\n",
       " (13, 76),\n",
       " (8, 82),\n",
       " (53, 37),\n",
       " (5, 86),\n",
       " (7, 87),\n",
       " (62, 34),\n",
       " (74, 22),\n",
       " (73, 24),\n",
       " (70, 28),\n",
       " (78, 22),\n",
       " (22, 79),\n",
       " (37, 65),\n",
       " (7, 96),\n",
       " (43, 60),\n",
       " (60, 45),\n",
       " (11, 95),\n",
       " (81, 25),\n",
       " (96, 11),\n",
       " (87, 25),\n",
       " (100, 13),\n",
       " (94, 21),\n",
       " (74, 44),\n",
       " (86, 33),\n",
       " (55, 65),\n",
       " (69, 53),\n",
       " (93, 30),\n",
       " (70, 59),\n",
       " (84, 46),\n",
       " (68, 64),\n",
       " (81, 51),\n",
       " (59, 74),\n",
       " (73, 63),\n",
       " (57, 82),\n",
       " (60, 79),\n",
       " (52, 90),\n",
       " (43, 100),\n",
       " (78, 65),\n",
       " (54, 91),\n",
       " (65, 80),\n",
       " (99, 47),\n",
       " (52, 95),\n",
       " (55, 92),\n",
       " (61, 87),\n",
       " (75, 74),\n",
       " (72, 79),\n",
       " (60, 92),\n",
       " (95, 68),\n",
       " (86, 78),\n",
       " (88, 77),\n",
       " (83, 83),\n",
       " (88, 81),\n",
       " (91, 83),\n",
       " (97, 81),\n",
       " (81, 100),\n",
       " (86, 97),\n",
       " (89, 95)]"
      ]
     },
     "execution_count": 227,
     "metadata": {},
     "output_type": "execute_result"
    }
   ],
   "source": [
    "l\n"
   ]
  },
  {
   "cell_type": "code",
   "execution_count": 228,
   "metadata": {},
   "outputs": [
    {
     "name": "stdout",
     "output_type": "stream",
     "text": [
      "7221 (6, 8) (89, 95)\n",
      "7719 (100, 13) (7, 96)\n"
     ]
    }
   ],
   "source": [
    "print(abs(l[-1][0]-l[0][0])*abs(l[-1][1]-l[0][1]), l[0], l[-1])\n",
    "print(abs(a[-1][0]-a[0][0])*abs(a[-1][1]-a[0][1]), a[0], a[-1])\n"
   ]
  },
  {
   "cell_type": "code",
   "execution_count": 342,
   "metadata": {},
   "outputs": [
    {
     "name": "stdout",
     "output_type": "stream",
     "text": [
      "[[32942, 32800, [[-82, -98], [100, 83]]], [30090, 30070, [[81, -95], [-96, 75]]]]\n"
     ]
    }
   ],
   "source": [
    "import random\n",
    "c = []\n",
    "for i in range(100):\n",
    "    l = [(random.randint(-100, 100), random.randint(-100, 100))\n",
    "         for i in range(100)]\n",
    "    area = 0\n",
    "    mp = []\n",
    "    for x, y in l:\n",
    "        for xc, yc in l:\n",
    "            if area < (v := abs(xc-x)*abs(yc-y)):\n",
    "                area = v\n",
    "                mp = [[xc, yc], [x, y]]\n",
    "\n",
    "    # print(area, mp)\n",
    "\n",
    "    def f(func):\n",
    "        mnp, mxp, area = [l[0]], [l[0]], 0\n",
    "        for i in l:\n",
    "            if func(i) < func(mnp[0]):\n",
    "                mnp = [i]\n",
    "            elif func(i) == func(mnp[0]):\n",
    "                mnp.append(i)\n",
    "            if func(i) > func(mxp[0]):\n",
    "                mxp = [i]\n",
    "            if func(i) == func(mxp[0]):\n",
    "                mxp .append(i)\n",
    "        # print(mnp, mxp, abs(mnp[0]-mxp[0])*abs(mnp[1]-mxp[1]))\n",
    "        area = 0\n",
    "        for i in mnp:\n",
    "            for j in mxp:\n",
    "                area = max(area, abs(i[0]-j[0])*abs(i[1]-j[1]))\n",
    "        return area\n",
    "\n",
    "    ((v := max(f(lambda x: (-x[0]+x[1])),\n",
    "               f(lambda x: (x[0]+x[1])), f(lambda x: (x[0]-x[1])), f(lambda x: (-x[0]-x[1])))))\n",
    "    if area != v:\n",
    "        c += [[area, v, mp, ]]\n",
    "print(c)\n"
   ]
  },
  {
   "cell_type": "code",
   "execution_count": 324,
   "metadata": {},
   "outputs": [
    {
     "name": "stdout",
     "output_type": "stream",
     "text": [
      "(93, -74) (-91, 78) 27968\n",
      "(-87, -89) (85, 97) 31992\n",
      "31992\n"
     ]
    }
   ],
   "source": [
    "def f(func):\n",
    "    mnp, mxp, area = l[0], l[0], 0\n",
    "    for i in l:\n",
    "        if func(i) < func(mnp):\n",
    "            mnp = i\n",
    "        if func(i) > func(mxp):\n",
    "            mxp = i\n",
    "    print(mnp, mxp, abs(mnp[0]-mxp[0])*abs(mnp[1]-mxp[1]))\n",
    "    return abs(mnp[0]-mxp[0])*abs(mnp[1]-mxp[1])\n",
    "\n",
    "\n",
    "print(max(f(lambda x: (-x[0]+x[1])), f(lambda x: (x[0]+x[1]))))\n"
   ]
  },
  {
   "cell_type": "code",
   "execution_count": null,
   "metadata": {},
   "outputs": [],
   "source": []
  },
  {
   "cell_type": "code",
   "execution_count": null,
   "metadata": {},
   "outputs": [],
   "source": []
  }
 ],
 "metadata": {
  "kernelspec": {
   "display_name": "Python 3",
   "language": "python",
   "name": "python3"
  },
  "language_info": {
   "codemirror_mode": {
    "name": "ipython",
    "version": 3
   },
   "file_extension": ".py",
   "mimetype": "text/x-python",
   "name": "python",
   "nbconvert_exporter": "python",
   "pygments_lexer": "ipython3",
   "version": "3.12.0"
  }
 },
 "nbformat": 4,
 "nbformat_minor": 2
}
